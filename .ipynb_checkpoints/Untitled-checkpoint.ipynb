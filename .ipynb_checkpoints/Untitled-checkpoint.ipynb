{
 "cells": [
  {
   "cell_type": "code",
   "execution_count": 1,
   "metadata": {},
   "outputs": [
    {
     "name": "stdout",
     "output_type": "stream",
     "text": [
      "yellow\n",
      "yellow\n",
      "yellow\n",
      "red\n",
      "yellow\n",
      "yellow\n",
      "green\n",
      "green\n",
      "green\n",
      "red\n"
     ]
    }
   ],
   "source": [
    "import random\n",
    "\n",
    "colors = ['red', 'green', 'yellow']\n",
    "\n",
    "def traffic_light():\n",
    "    return random.choice(colors)\n",
    "\n",
    "for i in range(10):\n",
    "    print(traffic_light())"
   ]
  },
  {
   "cell_type": "code",
   "execution_count": null,
   "metadata": {},
   "outputs": [],
   "source": []
  }
 ],
 "metadata": {
  "kernelspec": {
   "display_name": "Python 3",
   "language": "python",
   "name": "python3"
  },
  "language_info": {
   "codemirror_mode": {
    "name": "ipython",
    "version": 3
   },
   "file_extension": ".py",
   "mimetype": "text/x-python",
   "name": "python",
   "nbconvert_exporter": "python",
   "pygments_lexer": "ipython3",
   "version": "3.6.5"
  }
 },
 "nbformat": 4,
 "nbformat_minor": 2
}
